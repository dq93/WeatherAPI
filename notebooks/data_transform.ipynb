{
 "cells": [
  {
   "cell_type": "code",
   "execution_count": 7,
   "metadata": {},
   "outputs": [],
   "source": [
    "import pandas as pd\n",
    "\n",
    "weather_data_csv = \"/Users/sa22/Documents/code/WeatherAPI/data/csv/weather_data.csv\"\n",
    "\n",
    "df = pd.read_csv(weather_data_csv)\n",
    "\n",
    "#convert to datetime object\n",
    "df['time'] = pd.to_datetime(df['time'])\n",
    "\n",
    "#drop columns with missing values\n",
    "df.dropna(inplace=True)\n",
    "\n",
    "#extract year\n",
    "df['year'] = df['time'].dt.year\n",
    "#extract month\n",
    "df['month'] = df['time'].dt.month"
   ]
  },
  {
   "cell_type": "code",
   "execution_count": null,
   "metadata": {},
   "outputs": [],
   "source": [
    "\n",
    "#group by year and month, keep only the numerics, and reset the index \n",
    "monthly_medians = df.groupby(['year', 'month']).median(numeric_only=True).reset_index()\n",
    "monthly_medians_filepath = \"/Users/sa22/Documents/code/WeatherAPI/data/csv/monthly_medians.csv\"\n",
    "monthly_medians.to_csv(monthly_medians_filepath, index=False)\n"
   ]
  },
  {
   "cell_type": "code",
   "execution_count": null,
   "metadata": {},
   "outputs": [],
   "source": [
    "#group by year and drop the month column\n",
    "yearly_medians = df.groupby(['year']).median(numeric_only=True).drop(columns=['month']).reset_index()\n",
    "yearly_medians_filepath = \"/Users/sa22/Documents/code/WeatherAPI/data/csv/yearly_medians.csv\"\n",
    "yearly_medians.to_csv(yearly_medians_filepath, index=False)"
   ]
  },
  {
   "cell_type": "code",
   "execution_count": null,
   "metadata": {},
   "outputs": [],
   "source": [
    "final_harvest_data = pd.read_csv(\"/Users/sa22/Documents/code/WeatherAPI/data/csv/br_final.csv\")\n",
    "harvest_subdivision = final_harvest_data[final_harvest_data['subdivision'] == 'Minas Gerais']"
   ]
  },
  {
   "cell_type": "code",
   "execution_count": null,
   "metadata": {},
   "outputs": [],
   "source": [
    "#harvest_data_filepath = \"/Users/sa22/Documents/code/WeatherAPI/data/csv/harvest_data.csv\"\n",
    "#harvest_data.to_csv(harvest_data_filepath, index=False)\n"
   ]
  }
 ],
 "metadata": {
  "kernelspec": {
   "display_name": "base",
   "language": "python",
   "name": "python3"
  },
  "language_info": {
   "codemirror_mode": {
    "name": "ipython",
    "version": 3
   },
   "file_extension": ".py",
   "mimetype": "text/x-python",
   "name": "python",
   "nbconvert_exporter": "python",
   "pygments_lexer": "ipython3",
   "version": "3.12.4"
  }
 },
 "nbformat": 4,
 "nbformat_minor": 2
}
