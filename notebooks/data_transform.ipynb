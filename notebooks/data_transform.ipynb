{
 "cells": [
  {
   "cell_type": "code",
   "execution_count": 38,
   "metadata": {},
   "outputs": [],
   "source": [
    "import pandas as pd\n",
    "\n",
    "weather_data_csv = \"/Users/sa22/Documents/code/WeatherAPI/data/csv/weather_data.csv\"\n",
    "\n",
    "df = pd.read_csv(weather_data_csv)\n",
    "\n",
    "#convert to datetime object\n",
    "df['time'] = pd.to_datetime(df['time'])\n",
    "\n",
    "#drop columns with missing values\n",
    "df.dropna(inplace=True)\n",
    "\n",
    "#extract year\n",
    "df['year'] = df['time'].dt.year\n",
    "#extract month\n",
    "df['month'] = df['time'].dt.month"
   ]
  },
  {
   "cell_type": "code",
   "execution_count": 23,
   "metadata": {},
   "outputs": [],
   "source": [
    "\n",
    "#group by year and month, keep only the numerics, and reset the index \n",
    "monthly_medians = df.groupby(['year', 'month']).median(numeric_only=True).reset_index()\n",
    "monthly_medians_filepath = \"/Users/sa22/Documents/code/WeatherAPI/data/csv/monthly_medians.csv\"\n",
    "monthly_medians.to_csv(monthly_medians_filepath, index=False)\n"
   ]
  },
  {
   "cell_type": "code",
   "execution_count": 17,
   "metadata": {},
   "outputs": [],
   "source": [
    "#group by year and drop the month column\n",
    "yearly_medians = df.groupby(['year']).median(numeric_only=True).drop(columns=['month']).reset_index()\n",
    "yearly_medians_filepath = \"/Users/sa22/Documents/code/WeatherAPI/data/csv/yearly_medians.csv\"\n",
    "yearly_medians.to_csv(yearly_medians_filepath, index=False)"
   ]
  },
  {
   "cell_type": "code",
   "execution_count": 79,
   "metadata": {},
   "outputs": [
    {
     "name": "stdout",
     "output_type": "stream",
     "text": [
      "year\n",
      "2012     6.975\n",
      "2013     6.650\n",
      "2014     6.800\n",
      "2015     8.625\n",
      "2016    11.200\n",
      "2017    12.250\n",
      "2018    10.775\n",
      "2019    10.100\n",
      "2020    12.750\n",
      "2021    11.650\n",
      "2022     7.150\n",
      "Name: avg_unemp_perc, dtype: float64\n",
      "      million_60kgs_bag  nonbear_mill_trees  bear_mill_trees  avg_unemp_perc\n",
      "year                                                                        \n",
      "2002              16.20              1500.0           4465.0             NaN\n",
      "2003              26.70              1125.0           5265.0             NaN\n",
      "2004              14.40               631.0           5050.0             NaN\n",
      "2005              21.40               466.0           5255.0             NaN\n",
      "2006              16.30               581.0           5330.0             NaN\n",
      "2007              23.70               563.0           5730.0             NaN\n",
      "2008              16.85               679.0           5720.0             NaN\n",
      "2009              25.55               663.0           5770.0             NaN\n",
      "2010              22.10               873.0           5725.0             NaN\n",
      "2011              28.50               815.0           5820.0             NaN\n",
      "2012              23.50               835.0           5760.0           6.975\n",
      "2013              28.50              1000.0           5860.0           6.650\n",
      "2014              29.40              1055.0           5810.0           6.800\n",
      "2015              26.00              1185.0           5770.0           8.625\n",
      "2016              25.30              1125.0           5735.0          11.200\n",
      "2017              32.50              1300.0           5640.0          12.250\n",
      "2018              28.30                 NaN              NaN          10.775\n",
      "2019              34.20              1150.0           5740.0          10.100\n",
      "2020              29.10              1230.0           5700.0          12.750\n",
      "2021              34.80              1050.0           6200.0          11.650\n",
      "2022              24.50              1500.0           6010.0           7.150\n",
      "2023              28.50              1510.0           6100.0             NaN\n"
     ]
    }
   ],
   "source": [
    "br_final_data = pd.read_csv(\"/Users/sa22/Documents/code/WeatherAPI/data/csv/br_final.csv\")\n",
    "harvest_subdivision = br_final_data[br_final_data['subdivision'] == 'Minas Gerais']\n",
    "harvest_medians = harvest_subdivision.groupby(['year']).median(numeric_only=True)\n",
    "\n",
    "data = harvest_medians.drop(columns=[\"nonbear_thous_hect\", \"bear_thous_hect\", \"trees_hect_bear\", \"trees_hect_nonbear\"])\n",
    "\n",
    "harvest_medians.loc[:,\"avg_unemp_perc\"].dropna()\n",
    "print(harvest_medians)"
   ]
  },
  {
   "cell_type": "code",
   "execution_count": null,
   "metadata": {},
   "outputs": [],
   "source": [
    "harvest_data_filepath = \"/Users/sa22/Documents/code/WeatherAPI/data/csv/harvest_data.csv\"\n",
    "#harvest_data.to_csv(harvest_data_filepath, index=False)\n"
   ]
  }
 ],
 "metadata": {
  "kernelspec": {
   "display_name": "base",
   "language": "python",
   "name": "python3"
  },
  "language_info": {
   "codemirror_mode": {
    "name": "ipython",
    "version": 3
   },
   "file_extension": ".py",
   "mimetype": "text/x-python",
   "name": "python",
   "nbconvert_exporter": "python",
   "pygments_lexer": "ipython3",
   "version": "3.12.4"
  }
 },
 "nbformat": 4,
 "nbformat_minor": 2
}
